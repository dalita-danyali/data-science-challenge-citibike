{
 "cells": [
  {
   "cell_type": "markdown",
   "id": "69d8ee04",
   "metadata": {},
   "source": [
    "# Analysis\n",
    "\n",
    "This notebook includes the analysis of bike rentals and accidents in NYC, 2023 based on data provided from Citibike and NYPD."
   ]
  },
  {
   "cell_type": "markdown",
   "id": "66738efc",
   "metadata": {},
   "source": [
    "## 1 Import packages"
   ]
  },
  {
   "cell_type": "code",
   "execution_count": 1,
   "id": "714c01aa",
   "metadata": {},
   "outputs": [],
   "source": [
    "import pandas as pd\n",
    "import matplotlib.pyplot as plt"
   ]
  },
  {
   "cell_type": "markdown",
   "id": "5ca3c46d",
   "metadata": {},
   "source": [
    "## 2 Import and prepare data"
   ]
  },
  {
   "cell_type": "markdown",
   "id": "50376a03",
   "metadata": {},
   "source": [
    "### 2.1 Citibike data"
   ]
  },
  {
   "cell_type": "markdown",
   "id": "9fe5d775",
   "metadata": {},
   "source": [
    "If not already done, run ```2_scripts/0_preprocess-data.py``` first."
   ]
  },
  {
   "cell_type": "code",
   "execution_count": null,
   "id": "cd745a13",
   "metadata": {},
   "outputs": [],
   "source": [
    "# Load preprocessed data\n",
    "df_c = pd.read_csv(\"../0_data/_preprocessed-data/citibike_2023.csv\")\n",
    "\n",
    "df_c.head()"
   ]
  },
  {
   "cell_type": "markdown",
   "id": "585b2207",
   "metadata": {},
   "source": [
    "### 2.2 Police data"
   ]
  },
  {
   "cell_type": "code",
   "execution_count": null,
   "id": "1ce0c31c",
   "metadata": {},
   "outputs": [],
   "source": []
  },
  {
   "cell_type": "markdown",
   "id": "aba90ab3",
   "metadata": {},
   "source": [
    "## 3 Initial analysis of Citibike data \n",
    "...with focus on characteristics in time"
   ]
  },
  {
   "cell_type": "markdown",
   "id": "d3b7d2e2",
   "metadata": {},
   "source": [
    "### 3.1 Most rides by Citibike members"
   ]
  },
  {
   "cell_type": "code",
   "execution_count": 5,
   "id": "df31027d",
   "metadata": {},
   "outputs": [],
   "source": [
    "# Calculate key total numbers from data set\n",
    "\n",
    "# total number of rides\n",
    "tot_rides = len(df_c)\n",
    "\n",
    "# total number of rides by bike type\n",
    "tot_rideable_type = df_c.value_counts(\"rideable_type\")\n",
    "# total number of rides by electric bike\n",
    "tot_rides_electric_bike = tot_rideable_type.iloc[0]\n",
    "# total number of rides by classic bike\n",
    "tot_rides_classic_bike = tot_rideable_type.iloc[1]\n",
    "\n",
    "# total number of rides by members or non-members (casuals)\n",
    "tot_member_casual = df_c.value_counts(\"member_casual\")\n",
    "# total number of rides by members\n",
    "tot_rides_member = tot_member_casual.iloc[0]\n",
    "# total number of rides by non-members (casuals)\n",
    "tot_rides_casual = tot_member_casual.iloc[1]\n",
    "\n",
    "# Initiate dataframe to store all total values for analysis report\n",
    "df_analysis_tot = pd.DataFrame({\n",
    "    \"metric\": [\n",
    "        \"tot_rides\",\n",
    "        \"tot_rides_electric_bike\",\n",
    "        \"tot_rides_classic_bike\",\n",
    "        \"tot_rides_member\",\n",
    "        \"tot_rides_casual\"\n",
    "    ],\n",
    "    \"value\": [\n",
    "        tot_rides,\n",
    "        tot_rides_electric_bike,\n",
    "        tot_rides_classic_bike,\n",
    "        tot_rides_member,\n",
    "        tot_rides_casual\n",
    "    ]\n",
    "})"
   ]
  },
  {
   "cell_type": "code",
   "execution_count": 6,
   "id": "8b8859e1",
   "metadata": {},
   "outputs": [],
   "source": [
    "# Calculate key share numbers from data set\n",
    "\n",
    "# Share of electric bike rides\n",
    "share_rides_electric_bike = tot_rides_electric_bike / tot_rides\n",
    "# Share of classic bike rides\n",
    "share_rides_classic_bike = 1 - share_rides_electric_bike \n",
    "# Share of member rides\n",
    "share_rides_member = tot_rides_member / tot_rides\n",
    "# Share of casual rides (non-members)\n",
    "share_rides_casual = 1 - share_rides_member\n",
    "\n",
    "# Initiate dataframe to store all share values for analysis report\n",
    "df_analysis_share = pd.DataFrame({\n",
    "    \"metric\": [\n",
    "        \"share_rides_electric_bike\",\n",
    "        \"share_rides_classic_bike\",\n",
    "        \"share_rides_member\",\n",
    "        \"share_rides_casual\"\n",
    "    ],\n",
    "    \"value\": [\n",
    "        share_rides_electric_bike,\n",
    "        share_rides_classic_bike,\n",
    "        share_rides_member,\n",
    "        share_rides_casual\n",
    "    ]\n",
    "})"
   ]
  },
  {
   "cell_type": "code",
   "execution_count": 7,
   "id": "3917cd81",
   "metadata": {},
   "outputs": [
    {
     "data": {
      "text/html": [
       "<div>\n",
       "<style scoped>\n",
       "    .dataframe tbody tr th:only-of-type {\n",
       "        vertical-align: middle;\n",
       "    }\n",
       "\n",
       "    .dataframe tbody tr th {\n",
       "        vertical-align: top;\n",
       "    }\n",
       "\n",
       "    .dataframe thead th {\n",
       "        text-align: right;\n",
       "    }\n",
       "</style>\n",
       "<table border=\"1\" class=\"dataframe\">\n",
       "  <thead>\n",
       "    <tr style=\"text-align: right;\">\n",
       "      <th></th>\n",
       "      <th>metric</th>\n",
       "      <th>value</th>\n",
       "    </tr>\n",
       "  </thead>\n",
       "  <tbody>\n",
       "    <tr>\n",
       "      <th>0</th>\n",
       "      <td>tot_rides</td>\n",
       "      <td>35106986</td>\n",
       "    </tr>\n",
       "    <tr>\n",
       "      <th>1</th>\n",
       "      <td>tot_rides_electric_bike</td>\n",
       "      <td>17605824</td>\n",
       "    </tr>\n",
       "    <tr>\n",
       "      <th>2</th>\n",
       "      <td>tot_rides_classic_bike</td>\n",
       "      <td>17501162</td>\n",
       "    </tr>\n",
       "    <tr>\n",
       "      <th>3</th>\n",
       "      <td>tot_rides_member</td>\n",
       "      <td>28513791</td>\n",
       "    </tr>\n",
       "    <tr>\n",
       "      <th>4</th>\n",
       "      <td>tot_rides_casual</td>\n",
       "      <td>6593195</td>\n",
       "    </tr>\n",
       "  </tbody>\n",
       "</table>\n",
       "</div>"
      ],
      "text/plain": [
       "                    metric     value\n",
       "0                tot_rides  35106986\n",
       "1  tot_rides_electric_bike  17605824\n",
       "2   tot_rides_classic_bike  17501162\n",
       "3         tot_rides_member  28513791\n",
       "4         tot_rides_casual   6593195"
      ]
     },
     "execution_count": 7,
     "metadata": {},
     "output_type": "execute_result"
    }
   ],
   "source": [
    "df_analysis_tot"
   ]
  },
  {
   "cell_type": "code",
   "execution_count": 8,
   "id": "7eb50304",
   "metadata": {},
   "outputs": [
    {
     "data": {
      "text/html": [
       "<div>\n",
       "<style scoped>\n",
       "    .dataframe tbody tr th:only-of-type {\n",
       "        vertical-align: middle;\n",
       "    }\n",
       "\n",
       "    .dataframe tbody tr th {\n",
       "        vertical-align: top;\n",
       "    }\n",
       "\n",
       "    .dataframe thead th {\n",
       "        text-align: right;\n",
       "    }\n",
       "</style>\n",
       "<table border=\"1\" class=\"dataframe\">\n",
       "  <thead>\n",
       "    <tr style=\"text-align: right;\">\n",
       "      <th></th>\n",
       "      <th>metric</th>\n",
       "      <th>value</th>\n",
       "    </tr>\n",
       "  </thead>\n",
       "  <tbody>\n",
       "    <tr>\n",
       "      <th>0</th>\n",
       "      <td>share_rides_electric_bike</td>\n",
       "      <td>0.501491</td>\n",
       "    </tr>\n",
       "    <tr>\n",
       "      <th>1</th>\n",
       "      <td>share_rides_classic_bike</td>\n",
       "      <td>0.498509</td>\n",
       "    </tr>\n",
       "    <tr>\n",
       "      <th>2</th>\n",
       "      <td>share_rides_member</td>\n",
       "      <td>0.812197</td>\n",
       "    </tr>\n",
       "    <tr>\n",
       "      <th>3</th>\n",
       "      <td>share_rides_casual</td>\n",
       "      <td>0.187803</td>\n",
       "    </tr>\n",
       "  </tbody>\n",
       "</table>\n",
       "</div>"
      ],
      "text/plain": [
       "                      metric     value\n",
       "0  share_rides_electric_bike  0.501491\n",
       "1   share_rides_classic_bike  0.498509\n",
       "2         share_rides_member  0.812197\n",
       "3         share_rides_casual  0.187803"
      ]
     },
     "execution_count": 8,
     "metadata": {},
     "output_type": "execute_result"
    }
   ],
   "source": [
    "df_analysis_share"
   ]
  },
  {
   "cell_type": "markdown",
   "id": "356881b3",
   "metadata": {},
   "source": [
    "### First interpretation\n",
    "1. Main categories in rides are a) bike type: electric vs. classical bike b) membership: member vs. non-member (casual) user\n",
    "2. Nearly 50-50 rides with electric vs. classical bike\n",
    "3. More member bike rides, than casual (non-member) bike rides (Probably members = commuters/locals, to be checked in 3.3)\n",
    "\n",
    "### Implications for insurance\n",
    "1. Members are main group to insure, since they make up most of the rides\n",
    "2. Consider different insurance package for bikes vs. classical bikes, because electrical bikes are faster than classical bikes, and potentially lead to longer rides\n",
    "3. Consider different insurance package for members vs. non-members, because of frequency/share of rides"
   ]
  },
  {
   "cell_type": "markdown",
   "id": "d018c194",
   "metadata": {},
   "source": [
    "### 3.2 Most bike rides in summer"
   ]
  },
  {
   "cell_type": "code",
   "execution_count": 15,
   "id": "51ebb434",
   "metadata": {},
   "outputs": [
    {
     "data": {
      "image/png": "[encoded data removed]",
      "text/plain": [
       "<Figure size 1200x600 with 1 Axes>"
      ]
     },
     "metadata": {},
     "output_type": "display_data"
    }
   ],
   "source": [
    "# Group by month and user type\n",
    "rides_per_month = df_c.groupby([\"month\", \"member_casual\"]).size().unstack(fill_value=0)\n",
    "\n",
    "# Reorder columns so 'member' comes first (bottom) and 'casual' second (top)\n",
    "rides_per_month = rides_per_month[[\"member\", \"casual\"]]\n",
    "\n",
    "# Plot stacked bar chart\n",
    "rides_per_month.plot(\n",
    "    kind=\"bar\",\n",
    "    stacked=True,\n",
    "    figsize=(12, 6),\n",
    "    color={\"casual\": \"#86C0F7\", \"member\": \"#255BA6\"}\n",
    ")\n",
    "\n",
    "# Set legend\n",
    "handles, labels = plt.gca().get_legend_handles_labels()\n",
    "order = [1,0]\n",
    "plt.legend([handles[idx] for idx in order],[labels[idx] for idx in order], title=\"User type\")\n",
    "\n",
    "plt.xlabel(\"Month\")\n",
    "plt.ylabel(\"Number of rides\")\n",
    "plt.title(\"Rides per month\\n by user type in 2023 NY\")\n",
    "plt.xticks(rotation=360)\n",
    "plt.tight_layout()\n",
    "plt.show()"
   ]
  },
  {
   "cell_type": "markdown",
   "id": "ea3fff62",
   "metadata": {},
   "source": [
    "### First interpretation\n",
    "1. More bike rides in summer, less in winter - both for members and non-members\n",
    "2. Non-members are more seasonal than members (e.g., Non-members 200k in January --x4--> +800k in August, while members 1.5M in January --x2--> 3M in August)\n",
    "3. Again, rides from members make up the majority of rides – at any time!\n",
    "\n",
    "### Implications for insurance\n",
    "1. Consider marketing of insurance during peak summer season\n",
    "2. Consider different risk profile depending on season (winter = ice on the roads)"
   ]
  },
  {
   "cell_type": "markdown",
   "id": "e87d93e0",
   "metadata": {},
   "source": [
    "### 3.3 Members commute most during rush hours"
   ]
  },
  {
   "cell_type": "code",
   "execution_count": 17,
   "id": "d578efa4",
   "metadata": {},
   "outputs": [
    {
     "data": {
      "image/png": "[encoded data removed]",
      "text/plain": [
       "<Figure size 1200x600 with 1 Axes>"
      ]
     },
     "metadata": {},
     "output_type": "display_data"
    }
   ],
   "source": [
    "# Count rides per hour & user type\n",
    "rides_per_hour = df_c.groupby([\"hour\", \"member_casual\"]).size().unstack(fill_value=0)\n",
    "\n",
    "# Reorder columns so casual first, member second (legend order)\n",
    "rides_per_hour = rides_per_hour[[\"member\", \"casual\"]]\n",
    "\n",
    "# Plot stacked bar chart\n",
    "rides_per_hour.plot(\n",
    "    kind=\"bar\",\n",
    "    stacked=True,\n",
    "    figsize=(12, 6),\n",
    "    color={\"casual\": \"#86C0F7\", \"member\": \"#255BA6\"}\n",
    ")\n",
    "\n",
    "# Set legend\n",
    "handles, labels = plt.gca().get_legend_handles_labels()\n",
    "order = [1,0]\n",
    "plt.legend([handles[idx] for idx in order],[labels[idx] for idx in order], title=\"User type\")\n",
    "\n",
    "plt.xlabel(\"Hour of day\")\n",
    "plt.ylabel(\"Number of rides\")\n",
    "plt.title(\"Rides per hour of an average day\\n by user type in 2023 NY\")\n",
    "plt.xticks(rotation=0)\n",
    "plt.tight_layout()\n",
    "plt.show()"
   ]
  },
  {
   "cell_type": "markdown",
   "id": "df48be8b",
   "metadata": {},
   "source": [
    "### First interpretation\n",
    "1. Reasonal assumption: Casual rides = mainly tourists, member rides = mainly locals aka commuters\n",
    "2. Peaks in rides around 8am and 5pm dominated by members (the locals commuting to their job)\n",
    "\n",
    "### Implications for insurance\n",
    "1. Most bike rides by members around rush hours, means even more risk for traffic accidents, since also cars are on the road (to be checked with police data in 5)"
   ]
  },
  {
   "cell_type": "markdown",
   "id": "b2029fe6",
   "metadata": {},
   "source": [
    "## 4 Initial analysis of police data"
   ]
  },
  {
   "cell_type": "code",
   "execution_count": null,
   "id": "04907e08",
   "metadata": {},
   "outputs": [],
   "source": []
  },
  {
   "cell_type": "markdown",
   "id": "145b01de",
   "metadata": {},
   "source": [
    "## 5 Geo-spatial analysis of Citibike and police data"
   ]
  },
  {
   "cell_type": "markdown",
   "id": "aefbcdbc",
   "metadata": {},
   "source": []
  }
 ],
 "metadata": {
  "kernelspec": {
   "display_name": "base",
   "language": "python",
   "name": "python3"
  },
  "language_info": {
   "codemirror_mode": {
    "name": "ipython",
    "version": 3
   },
   "file_extension": ".py",
   "mimetype": "text/x-python",
   "name": "python",
   "nbconvert_exporter": "python",
   "pygments_lexer": "ipython3",
   "version": "3.11.7"
  }
 },
 "nbformat": 4,
 "nbformat_minor": 5
}
