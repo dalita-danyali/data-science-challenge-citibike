{
 "cells": [
  {
   "cell_type": "markdown",
   "id": "69d8ee04",
   "metadata": {},
   "source": [
    "# Analysis\n",
    "\n",
    "This notebook includes the analysis of bike rentals and accidents in NYC, 2023 based on data provided from Citibike and NYPD.\n",
    "\n",
    "We first import packages (1) and relevant data (2). Then, we perform an initial analysis of CitiBike data (3), followed by initial analysis of police data (4). We wrap it up by a calculating a cooperation offer for AXA + CitiBike (5).\n",
    "\n",
    "General note: First insights and interpretation are expressed either in a cell as note, or in a markdown as fluent text."
   ]
  },
  {
   "cell_type": "markdown",
   "id": "66738efc",
   "metadata": {},
   "source": [
    "## 1 Import packages"
   ]
  },
  {
   "cell_type": "code",
   "execution_count": 1,
   "id": "714c01aa",
   "metadata": {},
   "outputs": [],
   "source": [
    "import pandas as pd\n",
    "import matplotlib.pyplot as plt"
   ]
  },
  {
   "cell_type": "markdown",
   "id": "5ca3c46d",
   "metadata": {},
   "source": [
    "## 2 Import pre-processed data"
   ]
  },
  {
   "cell_type": "code",
   "execution_count": 2,
   "id": "cd745a13",
   "metadata": {},
   "outputs": [],
   "source": [
    "# If not already done, run ```2_scripts/0_preprocess-citibike-data.py``` and ```2_scripts/1_preprocess-police-data.py``` first.\n",
    "\n",
    "# Load preprocessed data\n",
    "df_c = pd.read_csv(\"../0_data/_preprocessed-data/citibike_2023.csv\")\n",
    "df_p = pd.read_csv(\"../0_data/_preprocessed-data/police_2023.csv\")"
   ]
  },
  {
   "cell_type": "markdown",
   "id": "aba90ab3",
   "metadata": {},
   "source": [
    "## 3 Initial analysis of Citibike data"
   ]
  },
  {
   "cell_type": "markdown",
   "id": "d3b7d2e2",
   "metadata": {},
   "source": [
    "#### 3.1 Most bike rides by Citibike members"
   ]
  },
  {
   "cell_type": "code",
   "execution_count": 3,
   "id": "df31027d",
   "metadata": {},
   "outputs": [],
   "source": [
    "# Calculate key total numbers from data set\n",
    "\n",
    "# total number of rides\n",
    "tot_rides = len(df_c)\n",
    "\n",
    "# total number of rides by bike type\n",
    "tot_rideable_type = df_c.value_counts(\"rideable_type\")\n",
    "# total number of rides by electric bike\n",
    "tot_rides_electric_bike = tot_rideable_type.iloc[0]\n",
    "# total number of rides by classic bike\n",
    "tot_rides_classic_bike = tot_rideable_type.iloc[1]\n",
    "\n",
    "# total number of rides by members or non-members (casuals)\n",
    "tot_member_casual = df_c.value_counts(\"member_casual\")\n",
    "# total number of rides by members\n",
    "tot_rides_member = tot_member_casual.iloc[0]\n",
    "# total number of rides by non-members (casuals)\n",
    "tot_rides_casual = tot_member_casual.iloc[1]\n",
    "\n",
    "# Initiate dataframe to store all total values for analysis report\n",
    "df_analysis_tot_c = pd.DataFrame({\n",
    "    \"metric\": [\n",
    "        \"tot_rides\",\n",
    "        \"tot_rides_electric_bike\",\n",
    "        \"tot_rides_classic_bike\",\n",
    "        \"tot_rides_member\",\n",
    "        \"tot_rides_casual\"\n",
    "    ],\n",
    "    \"value\": [\n",
    "        tot_rides,\n",
    "        tot_rides_electric_bike,\n",
    "        tot_rides_classic_bike,\n",
    "        tot_rides_member,\n",
    "        tot_rides_casual\n",
    "    ]\n",
    "})"
   ]
  },
  {
   "cell_type": "code",
   "execution_count": 4,
   "id": "8b8859e1",
   "metadata": {},
   "outputs": [],
   "source": [
    "# Calculate key share numbers from data set\n",
    "\n",
    "# Share of electric bike rides\n",
    "share_rides_electric_bike = tot_rides_electric_bike / tot_rides\n",
    "# Share of classic bike rides\n",
    "share_rides_classic_bike = 1 - share_rides_electric_bike \n",
    "# Share of member rides\n",
    "share_rides_member = tot_rides_member / tot_rides\n",
    "# Share of casual rides (non-members)\n",
    "share_rides_casual = 1 - share_rides_member\n",
    "\n",
    "# Initiate dataframe to store all share values for analysis report\n",
    "df_analysis_share_c = pd.DataFrame({\n",
    "    \"metric\": [\n",
    "        \"share_rides_electric_bike\",\n",
    "        \"share_rides_classic_bike\",\n",
    "        \"share_rides_member\",\n",
    "        \"share_rides_casual\"\n",
    "    ],\n",
    "    \"value\": [\n",
    "        share_rides_electric_bike,\n",
    "        share_rides_classic_bike,\n",
    "        share_rides_member,\n",
    "        share_rides_casual\n",
    "    ]\n",
    "})"
   ]
  },
  {
   "cell_type": "code",
   "execution_count": 5,
   "id": "3917cd81",
   "metadata": {},
   "outputs": [
    {
     "data": {
      "text/html": [
       "<div>\n",
       "<style scoped>\n",
       "    .dataframe tbody tr th:only-of-type {\n",
       "        vertical-align: middle;\n",
       "    }\n",
       "\n",
       "    .dataframe tbody tr th {\n",
       "        vertical-align: top;\n",
       "    }\n",
       "\n",
       "    .dataframe thead th {\n",
       "        text-align: right;\n",
       "    }\n",
       "</style>\n",
       "<table border=\"1\" class=\"dataframe\">\n",
       "  <thead>\n",
       "    <tr style=\"text-align: right;\">\n",
       "      <th></th>\n",
       "      <th>metric</th>\n",
       "      <th>value</th>\n",
       "    </tr>\n",
       "  </thead>\n",
       "  <tbody>\n",
       "    <tr>\n",
       "      <th>0</th>\n",
       "      <td>tot_rides</td>\n",
       "      <td>35106986</td>\n",
       "    </tr>\n",
       "    <tr>\n",
       "      <th>1</th>\n",
       "      <td>tot_rides_electric_bike</td>\n",
       "      <td>17605824</td>\n",
       "    </tr>\n",
       "    <tr>\n",
       "      <th>2</th>\n",
       "      <td>tot_rides_classic_bike</td>\n",
       "      <td>17501162</td>\n",
       "    </tr>\n",
       "    <tr>\n",
       "      <th>3</th>\n",
       "      <td>tot_rides_member</td>\n",
       "      <td>28513791</td>\n",
       "    </tr>\n",
       "    <tr>\n",
       "      <th>4</th>\n",
       "      <td>tot_rides_casual</td>\n",
       "      <td>6593195</td>\n",
       "    </tr>\n",
       "  </tbody>\n",
       "</table>\n",
       "</div>"
      ],
      "text/plain": [
       "                    metric     value\n",
       "0                tot_rides  35106986\n",
       "1  tot_rides_electric_bike  17605824\n",
       "2   tot_rides_classic_bike  17501162\n",
       "3         tot_rides_member  28513791\n",
       "4         tot_rides_casual   6593195"
      ]
     },
     "execution_count": 5,
     "metadata": {},
     "output_type": "execute_result"
    }
   ],
   "source": [
    "df_analysis_tot_c"
   ]
  },
  {
   "cell_type": "code",
   "execution_count": 6,
   "id": "7eb50304",
   "metadata": {},
   "outputs": [
    {
     "data": {
      "text/html": [
       "<div>\n",
       "<style scoped>\n",
       "    .dataframe tbody tr th:only-of-type {\n",
       "        vertical-align: middle;\n",
       "    }\n",
       "\n",
       "    .dataframe tbody tr th {\n",
       "        vertical-align: top;\n",
       "    }\n",
       "\n",
       "    .dataframe thead th {\n",
       "        text-align: right;\n",
       "    }\n",
       "</style>\n",
       "<table border=\"1\" class=\"dataframe\">\n",
       "  <thead>\n",
       "    <tr style=\"text-align: right;\">\n",
       "      <th></th>\n",
       "      <th>metric</th>\n",
       "      <th>value</th>\n",
       "    </tr>\n",
       "  </thead>\n",
       "  <tbody>\n",
       "    <tr>\n",
       "      <th>0</th>\n",
       "      <td>share_rides_electric_bike</td>\n",
       "      <td>0.501491</td>\n",
       "    </tr>\n",
       "    <tr>\n",
       "      <th>1</th>\n",
       "      <td>share_rides_classic_bike</td>\n",
       "      <td>0.498509</td>\n",
       "    </tr>\n",
       "    <tr>\n",
       "      <th>2</th>\n",
       "      <td>share_rides_member</td>\n",
       "      <td>0.812197</td>\n",
       "    </tr>\n",
       "    <tr>\n",
       "      <th>3</th>\n",
       "      <td>share_rides_casual</td>\n",
       "      <td>0.187803</td>\n",
       "    </tr>\n",
       "  </tbody>\n",
       "</table>\n",
       "</div>"
      ],
      "text/plain": [
       "                      metric     value\n",
       "0  share_rides_electric_bike  0.501491\n",
       "1   share_rides_classic_bike  0.498509\n",
       "2         share_rides_member  0.812197\n",
       "3         share_rides_casual  0.187803"
      ]
     },
     "execution_count": 6,
     "metadata": {},
     "output_type": "execute_result"
    }
   ],
   "source": [
    "df_analysis_share_c"
   ]
  },
  {
   "cell_type": "code",
   "execution_count": 7,
   "id": "356881b3",
   "metadata": {},
   "outputs": [],
   "source": [
    "# ### First interpretation\n",
    "# 1. Main categories in rides are a) bike type: electric vs. classical bike b) membership: member vs. non-member (casual) user\n",
    "# 2. Nearly 50-50 rides with electric vs. classical bike\n",
    "# 3. More member bike rides, than casual (non-member) bike rides (Probably members = commuters/locals, to be checked in 3.3)\n",
    "\n",
    "# ### Implications for insurance\n",
    "# 1. Members are main group to insure, since they make up most of the rides\n",
    "# 2. Consider different insurance package for bikes vs. classical bikes, because electrical bikes are faster than classical bikes, and potentially lead to longer rides\n",
    "# 3. Consider different insurance package for members vs. non-members, because of frequency/share of rides"
   ]
  },
  {
   "cell_type": "markdown",
   "id": "d018c194",
   "metadata": {},
   "source": [
    "#### 3.2 Most bike rides in summer"
   ]
  },
  {
   "cell_type": "code",
   "execution_count": 8,
   "id": "51ebb434",
   "metadata": {},
   "outputs": [
    {
     "data": {
      "image/png": "[encoded data removed]",
      "text/plain": [
       "<Figure size 1200x600 with 1 Axes>"
      ]
     },
     "metadata": {},
     "output_type": "display_data"
    }
   ],
   "source": [
    "# Group by month and user type\n",
    "rides_per_month = df_c.groupby([\"month\", \"member_casual\"]).size().unstack(fill_value=0)\n",
    "\n",
    "# Reorder columns so 'member' comes first (bottom) and 'casual' second (top)\n",
    "rides_per_month = rides_per_month[[\"member\", \"casual\"]]\n",
    "\n",
    "# Plot stacked bar chart\n",
    "rides_per_month.plot(\n",
    "    kind=\"bar\",\n",
    "    stacked=True,\n",
    "    figsize=(12, 6),\n",
    "    color={\"casual\": \"#86C0F7\", \"member\": \"#255BA6\"}\n",
    ")\n",
    "\n",
    "# Set legend\n",
    "handles, labels = plt.gca().get_legend_handles_labels()\n",
    "order = [1,0]\n",
    "plt.legend([handles[idx] for idx in order],[labels[idx] for idx in order], title=\"User type\")\n",
    "\n",
    "plt.xlabel(\"Month\")\n",
    "plt.ylabel(\"Number of rides\")\n",
    "plt.title(\"Rides per month\\n by user type in 2023 NY\")\n",
    "plt.xticks(rotation=360)\n",
    "plt.tight_layout()\n",
    "plt.show()"
   ]
  },
  {
   "cell_type": "code",
   "execution_count": 9,
   "id": "ea3fff62",
   "metadata": {},
   "outputs": [],
   "source": [
    "# ### First interpretation\n",
    "# 1. More bike rides in summer, less in winter - both for members and non-members\n",
    "# 2. Non-members are more seasonal than members (e.g., Non-members 200k in January --x4--> +800k in August, while members 1.5M in January --x2--> 3M in August)\n",
    "# 3. Again, rides from members make up the majority of rides – at any time!\n",
    "\n",
    "# ### Implications for insurance\n",
    "# 1. Consider marketing of insurance during peak summer season\n",
    "# 2. Consider different risk profile depending on season (winter = ice on the roads)"
   ]
  },
  {
   "cell_type": "markdown",
   "id": "e87d93e0",
   "metadata": {},
   "source": [
    "#### 3.3 Members commute most during rush hours"
   ]
  },
  {
   "cell_type": "code",
   "execution_count": 10,
   "id": "d578efa4",
   "metadata": {},
   "outputs": [
    {
     "data": {
      "image/png": "[encoded data removed]",
      "text/plain": [
       "<Figure size 1200x600 with 1 Axes>"
      ]
     },
     "metadata": {},
     "output_type": "display_data"
    }
   ],
   "source": [
    "# Count and normalize rides per hour & user type\n",
    "rides_per_hour = df_c.groupby([\"hour\", \"member_casual\"]).size().unstack(fill_value=0) / len(df_c) ######### to be checked \n",
    "\n",
    "# Reorder columns so casual first, member second (legend order)\n",
    "rides_per_hour = rides_per_hour[[\"member\", \"casual\"]]\n",
    "\n",
    "# Plot stacked bar chart\n",
    "rides_per_hour.plot(\n",
    "    kind=\"bar\",\n",
    "    stacked=True,\n",
    "    figsize=(12, 6),\n",
    "    color={\"casual\": \"#86C0F7\", \"member\": \"#255BA6\"}\n",
    ")\n",
    "\n",
    "# Set legend\n",
    "handles, labels = plt.gca().get_legend_handles_labels()\n",
    "order = [1,0]\n",
    "plt.legend([handles[idx] for idx in order],[labels[idx] for idx in order], title=\"User type\")\n",
    "\n",
    "plt.xlabel(\"Hour of day\")\n",
    "plt.ylabel(\"Number of rides\")\n",
    "plt.title(\"Rides per hour of an average day\\n by user type in 2023 NY\")\n",
    "plt.xticks(rotation=0)\n",
    "plt.tight_layout()\n",
    "plt.show()"
   ]
  },
  {
   "cell_type": "code",
   "execution_count": 11,
   "id": "df48be8b",
   "metadata": {},
   "outputs": [],
   "source": [
    "# ### First interpretation\n",
    "# 1. Reasonal assumption: Casual rides = mainly tourists, member rides = mainly locals aka commuters\n",
    "# 2. Peaks in rides around 8 o'clock and 17 o'clock dominated by members (the locals commuting to their job)\n",
    "\n",
    "# ### Implications for insurance\n",
    "# 1. Most bike rides by members around rush hours, means even more risk for traffic accidents, since also cars are on the road (to be checked with police data in 5)\n",
    "# 2. Maybe consider real time warning system at rush hours in citibike app"
   ]
  },
  {
   "cell_type": "markdown",
   "id": "b2029fe6",
   "metadata": {},
   "source": [
    "## 4 Initial analysis of police data"
   ]
  },
  {
   "cell_type": "markdown",
   "id": "9b75ea8a",
   "metadata": {},
   "source": [
    "#### 4.1 Bike accidents lead to injuries or even death in 64%"
   ]
  },
  {
   "cell_type": "code",
   "execution_count": 12,
   "id": "74661510",
   "metadata": {},
   "outputs": [],
   "source": [
    "# Total number of accidents\n",
    "tot_accidents = len(df_p)\n",
    "# Total number of people killed in accidents\n",
    "tot_death = sum(df_p[\"NUMBER OF PERSONS KILLED\"])\n",
    "# Total number of people injured in accidents\n",
    "tot_injured = sum(df_p[\"NUMBER OF PERSONS INJURED\"])\n",
    "# Total number of cyclists killed\n",
    "tot_death_cyclists = sum(df_p[\"NUMBER OF CYCLIST KILLED\"])\n",
    "# Total number of cyclists injured\n",
    "tot_injured_cyclists = sum(df_p[\"NUMBER OF CYCLIST INJURED\"])\n",
    "# Total number of accidents with cyclists involved (including killed or injured) in accident\n",
    "tot_accidents_cyclists = df_p[\"BICYCLE INVOLVED\"].sum()\n",
    "\n",
    "# Initiate dataframe to store all total values for analysis report\n",
    "df_analysis_tot_p = pd.DataFrame({\n",
    "    \"metric\": [\n",
    "        \"tot_accidents\",\n",
    "        \"tot_death\",\n",
    "        \"tot_injured\",\n",
    "        \"tot_death_cyclists\",\n",
    "        \"tot_injured_cyclists\",\n",
    "        \"tot_accidents_cyclists\"\n",
    "    ],\n",
    "    \"value\": [\n",
    "        tot_accidents,\n",
    "        tot_death,\n",
    "        tot_injured,\n",
    "        tot_death_cyclists,\n",
    "        tot_injured_cyclists,\n",
    "        tot_accidents_cyclists\n",
    "    ]\n",
    "})\n",
    "\n",
    "df_analysis_tot_p = df_analysis_tot_p.astype({\"value\": \"Int64\"})"
   ]
  },
  {
   "cell_type": "code",
   "execution_count": 13,
   "id": "c70eff3b",
   "metadata": {},
   "outputs": [],
   "source": [
    "# Share of deaths per accident\n",
    "share_death_per_accident = tot_death / tot_accidents\n",
    "# Share of accidents with biked involved\n",
    "share_accidents_bike = tot_accidents_cyclists / tot_accidents\n",
    "# Share of dead cyclists out of bike accidents\n",
    "share_death_bike_accidents = tot_death_cyclists / tot_accidents_cyclists\n",
    "# Share injured cyclists out of bike accidents\n",
    "share_injured_bike_accidents = tot_injured_cyclists / tot_accidents_cyclists\n",
    "\n",
    "# Initiate dataframe to store all share values for analysis report\n",
    "df_analysis_shares = pd.DataFrame({\n",
    "    \"metric\": [\n",
    "        \"share_death_per_accident\",\n",
    "        \"share_accidents_bike\",\n",
    "        \"share_death_bike_accidents\",\n",
    "        \"share_injured_bike_accidents\"\n",
    "    ],\n",
    "    \"value\": [\n",
    "        share_death_per_accident,\n",
    "        share_accidents_bike,\n",
    "        share_death_bike_accidents,\n",
    "        share_injured_bike_accidents\n",
    "    ]\n",
    "})"
   ]
  },
  {
   "cell_type": "code",
   "execution_count": 14,
   "id": "63ddb99d",
   "metadata": {},
   "outputs": [
    {
     "data": {
      "text/html": [
       "<div>\n",
       "<style scoped>\n",
       "    .dataframe tbody tr th:only-of-type {\n",
       "        vertical-align: middle;\n",
       "    }\n",
       "\n",
       "    .dataframe tbody tr th {\n",
       "        vertical-align: top;\n",
       "    }\n",
       "\n",
       "    .dataframe thead th {\n",
       "        text-align: right;\n",
       "    }\n",
       "</style>\n",
       "<table border=\"1\" class=\"dataframe\">\n",
       "  <thead>\n",
       "    <tr style=\"text-align: right;\">\n",
       "      <th></th>\n",
       "      <th>metric</th>\n",
       "      <th>value</th>\n",
       "    </tr>\n",
       "  </thead>\n",
       "  <tbody>\n",
       "    <tr>\n",
       "      <th>0</th>\n",
       "      <td>tot_accidents</td>\n",
       "      <td>96606</td>\n",
       "    </tr>\n",
       "    <tr>\n",
       "      <th>1</th>\n",
       "      <td>tot_death</td>\n",
       "      <td>280</td>\n",
       "    </tr>\n",
       "    <tr>\n",
       "      <th>2</th>\n",
       "      <td>tot_injured</td>\n",
       "      <td>54252</td>\n",
       "    </tr>\n",
       "    <tr>\n",
       "      <th>3</th>\n",
       "      <td>tot_death_cyclists</td>\n",
       "      <td>31</td>\n",
       "    </tr>\n",
       "    <tr>\n",
       "      <th>4</th>\n",
       "      <td>tot_injured_cyclists</td>\n",
       "      <td>5178</td>\n",
       "    </tr>\n",
       "    <tr>\n",
       "      <th>5</th>\n",
       "      <td>tot_accidents_cyclists</td>\n",
       "      <td>8161</td>\n",
       "    </tr>\n",
       "  </tbody>\n",
       "</table>\n",
       "</div>"
      ],
      "text/plain": [
       "                   metric  value\n",
       "0           tot_accidents  96606\n",
       "1               tot_death    280\n",
       "2             tot_injured  54252\n",
       "3      tot_death_cyclists     31\n",
       "4    tot_injured_cyclists   5178\n",
       "5  tot_accidents_cyclists   8161"
      ]
     },
     "execution_count": 14,
     "metadata": {},
     "output_type": "execute_result"
    }
   ],
   "source": [
    "df_analysis_tot_p"
   ]
  },
  {
   "cell_type": "code",
   "execution_count": 15,
   "id": "5833e0e0",
   "metadata": {},
   "outputs": [
    {
     "data": {
      "text/html": [
       "<div>\n",
       "<style scoped>\n",
       "    .dataframe tbody tr th:only-of-type {\n",
       "        vertical-align: middle;\n",
       "    }\n",
       "\n",
       "    .dataframe tbody tr th {\n",
       "        vertical-align: top;\n",
       "    }\n",
       "\n",
       "    .dataframe thead th {\n",
       "        text-align: right;\n",
       "    }\n",
       "</style>\n",
       "<table border=\"1\" class=\"dataframe\">\n",
       "  <thead>\n",
       "    <tr style=\"text-align: right;\">\n",
       "      <th></th>\n",
       "      <th>metric</th>\n",
       "      <th>value</th>\n",
       "    </tr>\n",
       "  </thead>\n",
       "  <tbody>\n",
       "    <tr>\n",
       "      <th>0</th>\n",
       "      <td>share_death_per_accident</td>\n",
       "      <td>0.002898</td>\n",
       "    </tr>\n",
       "    <tr>\n",
       "      <th>1</th>\n",
       "      <td>share_accidents_bike</td>\n",
       "      <td>0.084477</td>\n",
       "    </tr>\n",
       "    <tr>\n",
       "      <th>2</th>\n",
       "      <td>share_death_bike_accidents</td>\n",
       "      <td>0.003799</td>\n",
       "    </tr>\n",
       "    <tr>\n",
       "      <th>3</th>\n",
       "      <td>share_injured_bike_accidents</td>\n",
       "      <td>0.634481</td>\n",
       "    </tr>\n",
       "  </tbody>\n",
       "</table>\n",
       "</div>"
      ],
      "text/plain": [
       "                         metric     value\n",
       "0      share_death_per_accident  0.002898\n",
       "1          share_accidents_bike  0.084477\n",
       "2    share_death_bike_accidents  0.003799\n",
       "3  share_injured_bike_accidents  0.634481"
      ]
     },
     "execution_count": 15,
     "metadata": {},
     "output_type": "execute_result"
    }
   ],
   "source": [
    "df_analysis_shares"
   ]
  },
  {
   "cell_type": "code",
   "execution_count": 16,
   "id": "75f217fe",
   "metadata": {},
   "outputs": [
    {
     "data": {
      "text/plain": [
       "Unspecified                       96840\n",
       "Driver Inattention/Distraction    28646\n",
       "Following Too Closely              7512\n",
       "Failure to Yield Right-of-Way      7208\n",
       "Passing or Lane Usage Improper     5075\n",
       "Unsafe Speed                       4427\n",
       "Other Vehicular                    4257\n",
       "Passing Too Closely                3660\n",
       "Traffic Control Disregarded        3449\n",
       "Backing Unsafely                   3057\n",
       "Name: count, dtype: int64"
      ]
     },
     "execution_count": 16,
     "metadata": {},
     "output_type": "execute_result"
    }
   ],
   "source": [
    "factor_cols = [\"CONTRIBUTING FACTOR VEHICLE 1\",\"CONTRIBUTING FACTOR VEHICLE 2\",\"CONTRIBUTING FACTOR VEHICLE 3\",\"CONTRIBUTING FACTOR VEHICLE 4\",\"CONTRIBUTING FACTOR VEHICLE 5\"]\n",
    "\n",
    "# stack all values into one Series\n",
    "factors = df_p[factor_cols].stack()\n",
    "\n",
    "# drop NaNs and count occurrences\n",
    "factor_counts = factors.dropna().value_counts()\n",
    "\n",
    "# get top 10\n",
    "factor_counts.head(10)"
   ]
  },
  {
   "cell_type": "code",
   "execution_count": null,
   "id": "0ebcd9d3",
   "metadata": {},
   "outputs": [],
   "source": [
    "# ### First insights\n",
    "# 1. 8.5 % of all accidents in NY involve a cyclist\n",
    "# 2. 64% of these accidents involve a cyclists being injured - or dead\n",
    "# 3. Some of the main reasons for accidents are driver inattention, failure to yield right-of-way, or passing improperly. Alls reasing get more complex since more and more variants of vehicles participate in traffic\n",
    "\n",
    "# ### Implications for insurance\n",
    "# 1. Insure for injuries mainly, but also include probability of death\n",
    "# 2. Do marketing with the key numbers of accidents / injuries"
   ]
  },
  {
   "cell_type": "markdown",
   "id": "a954f1ea",
   "metadata": {},
   "source": [
    "#### 4.2 Most bike accidents happen in summer"
   ]
  },
  {
   "cell_type": "code",
   "execution_count": 18,
   "id": "3d07fe91",
   "metadata": {},
   "outputs": [],
   "source": [
    "# dataframe only bike accidents\n",
    "df_bikes = df_p[df_p[\"BICYCLE INVOLVED\"]]"
   ]
  },
  {
   "cell_type": "code",
   "execution_count": 19,
   "id": "b51e6815",
   "metadata": {},
   "outputs": [
    {
     "data": {
      "image/png": "[encoded data removed]",
      "text/plain": [
       "<Figure size 1200x600 with 1 Axes>"
      ]
     },
     "metadata": {},
     "output_type": "display_data"
    }
   ],
   "source": [
    "# group by month and count accidents\n",
    "bike_accidents_by_month = df_bikes.groupby(\"month\").size()\n",
    "\n",
    "# Plot stacked bar chart\n",
    "bike_accidents_by_month.plot(\n",
    "    kind=\"bar\",\n",
    "    stacked=True,\n",
    "    figsize=(12, 6),\n",
    "    color=\"#DE5936\"\n",
    ")\n",
    "\n",
    "plt.xlabel(\"Month\")\n",
    "plt.ylabel(\"Number of bike accidents\")\n",
    "plt.title(\"Bike accidents per month\\n in 2023 NY\")\n",
    "plt.xticks(rotation=0)\n",
    "plt.tight_layout()\n",
    "plt.show()"
   ]
  },
  {
   "cell_type": "code",
   "execution_count": 20,
   "id": "acff43f5",
   "metadata": {},
   "outputs": [],
   "source": [
    "# ### First interpretation\n",
    "# 1. More bike accidents in summer, less in winter (because there are more bike rides due to weather and tourists)\n",
    "# 2. In winter there is a higher risk of ice on the road and thus additional risk for accidents"
   ]
  },
  {
   "cell_type": "markdown",
   "id": "eae76e8d",
   "metadata": {},
   "source": [
    "#### 4.3 Most accidents during rush hours or from night life"
   ]
  },
  {
   "cell_type": "code",
   "execution_count": 21,
   "id": "f751be0f",
   "metadata": {},
   "outputs": [
    {
     "data": {
      "image/png": "[encoded data removed]",
      "text/plain": [
       "<Figure size 1200x600 with 1 Axes>"
      ]
     },
     "metadata": {},
     "output_type": "display_data"
    }
   ],
   "source": [
    "# Count and normalize rides per hour & user type\n",
    "bike_accidents_by_hour = df_bikes.groupby(\"hour\").size() / len(df_bikes)\n",
    "\n",
    "# Plot stacked bar chart\n",
    "bike_accidents_by_hour.plot(\n",
    "    kind=\"bar\",\n",
    "    stacked=True,\n",
    "    figsize=(12, 6),\n",
    "    color=\"#DE5936\"\n",
    ")\n",
    "\n",
    "plt.xlabel(\"Hour of day\")\n",
    "plt.ylabel(\"Number of bike accidents\")\n",
    "plt.title(\"Average number of bike accidents per hour\\n in 2023 NY\")\n",
    "plt.xticks(rotation=0)\n",
    "plt.tight_layout()\n",
    "plt.show()"
   ]
  },
  {
   "cell_type": "code",
   "execution_count": 22,
   "id": "c4dd3684",
   "metadata": {},
   "outputs": [],
   "source": [
    "# ### First insights\n",
    "# 1. Most bike accidents happen around 17 o'clock\n",
    "# 2. Other peak hours for bike accidents are 8 o'clock and midnight\n",
    "# 3. Interpretation: Most accidents during rush hour due to commuters, or at midnight due to drunk or tired cyclists (night life)"
   ]
  },
  {
   "cell_type": "markdown",
   "id": "145b01de",
   "metadata": {},
   "source": [
    "## 5 Calculation for cooperation offer"
   ]
  },
  {
   "cell_type": "code",
   "execution_count": null,
   "id": "e7f93fbf",
   "metadata": {},
   "outputs": [
    {
     "name": "stdout",
     "output_type": "stream",
     "text": [
      "Monthly premium for members is 10 $\n"
     ]
    }
   ],
   "source": [
    "#### Assumptions ####\n",
    "# Cost for average injury\n",
    "avg_cost_per_case = 8000\n",
    "# Share of people that rent their bike out of all people that use their bike\n",
    "share_bicyclists_rent = 0.5\n",
    "# Share of people that rent their bike at Citibike out of all share_byclists_rent \n",
    "share_citibike = 0.25\n",
    "# Assume a member commutes 300 days a year twice a day\n",
    "rides_per_member_year = 300 * 2\n",
    "# Profit margin\n",
    "margin = 0.1\n",
    "\n",
    "#### Calculation of monthly premium for members ####\n",
    "# Total number of bike injuries that we need to cover by the insurance (\"case\")\n",
    "tot_cases = tot_injured_cyclists * share_bicyclists_rent * share_citibike\n",
    "# Exepcted cost per year\n",
    "expected_cost = tot_cases * avg_cost_per_case\n",
    "\n",
    "# Estimated total number of members\n",
    "members = tot_rides_member / rides_per_member_year\n",
    "# Minimal monthly premium per member\n",
    "min_premium = expected_cost / (12 * members)\n",
    "# Let's assume a 10% margin\n",
    "monthly_premium = round(min_premium * (1 + margin))\n",
    "\n",
    "print(\"Monthly premium for members is\", monthly_premium, \"$\")"
   ]
  },
  {
   "cell_type": "markdown",
   "id": "568b7561",
   "metadata": {},
   "source": [
    "**Offer:**\n",
    "\n",
    "AXA cooperates with Citibike by providing an accident and liability insurance for the Citibike users. The details are as follows:\n",
    "- Insurance covers costs arising from accidents (e.g., transportation to nearest hospital) to a total of 25k Dollar\n",
    "- Insurance is voluntary and costs 10 Dollar per month per member, or 3 Dollar per ride for non-members\n",
    "- 30% out of profit margin for Citibike, 70% for AXA"
   ]
  }
 ],
 "metadata": {
  "kernelspec": {
   "display_name": "base",
   "language": "python",
   "name": "python3"
  },
  "language_info": {
   "codemirror_mode": {
    "name": "ipython",
    "version": 3
   },
   "file_extension": ".py",
   "mimetype": "text/x-python",
   "name": "python",
   "nbconvert_exporter": "python",
   "pygments_lexer": "ipython3",
   "version": "3.11.7"
  }
 },
 "nbformat": 4,
 "nbformat_minor": 5
}
